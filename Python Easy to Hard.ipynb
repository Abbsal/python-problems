{
 "cells": [
  {
   "cell_type": "code",
   "execution_count": null,
   "id": "23348113",
   "metadata": {},
   "outputs": [],
   "source": [
    "# Easy to hard problems in python "
   ]
  },
  {
   "cell_type": "code",
   "execution_count": 3,
   "id": "e4efbb05",
   "metadata": {},
   "outputs": [
    {
     "name": "stdout",
     "output_type": "stream",
     "text": [
      "Please enter your surname: Abhijeet\n",
      "Hello  Abhijeet\n"
     ]
    }
   ],
   "source": [
    "# 001\n",
    "\n",
    "firstname = input(\"Please enter your surname: \")\n",
    "print(\"Hello \", firstname)"
   ]
  },
  {
   "cell_type": "code",
   "execution_count": null,
   "id": "6df0bf58",
   "metadata": {},
   "outputs": [],
   "source": [
    "#002\n",
    "\n",
    "firstname = input(\"Please enter your surname: \")\n",
    "surname = input(\"Enter your surname: \")\n",
    "print(\"Hello \", firstname, surname)"
   ]
  },
  {
   "cell_type": "code",
   "execution_count": null,
   "id": "578fdc33",
   "metadata": {},
   "outputs": [],
   "source": [
    "#003\n",
    "\n",
    "print(\"What do you call a bear with no teeth? \\n A Gummy Bear\")"
   ]
  },
  {
   "cell_type": "code",
   "execution_count": 1,
   "id": "19814ae3",
   "metadata": {},
   "outputs": [
    {
     "name": "stdout",
     "output_type": "stream",
     "text": [
      "Enter a random number: 45\n",
      "Enter another number: 34\n",
      "The total answer is:  79\n"
     ]
    }
   ],
   "source": [
    "#004\n",
    "\n",
    "a = int(input(\"Enter a random number: \"))\n",
    "b = int(input(\"Enter another number: \"))\n",
    "\n",
    "Total = (a+b)\n",
    "\n",
    "print(\"The total answer is: \",Total)\n"
   ]
  },
  {
   "cell_type": "code",
   "execution_count": 5,
   "id": "1b601d21",
   "metadata": {},
   "outputs": [
    {
     "name": "stdout",
     "output_type": "stream",
     "text": [
      "Enter a random number: 3\n",
      "Enter 2nd random number: 4\n",
      "Enter 3rd random number: 2\n",
      "The Answer is:  11\n"
     ]
    }
   ],
   "source": [
    "#005\n",
    "\n",
    "a = int(input(\"Enter a random number: \"))\n",
    "b = int(input(\"Enter 2nd random number: \"))\n",
    "c = int(input(\"Enter 3rd random number: \"))\n",
    "\n",
    "Total = (a+b)*c\n",
    "\n",
    "print(\"The Answer is: \", Total)"
   ]
  },
  {
   "cell_type": "code",
   "execution_count": 6,
   "id": "213e2c37",
   "metadata": {},
   "outputs": [
    {
     "name": "stdout",
     "output_type": "stream",
     "text": [
      "How many slices of pizza did you start with: 6\n",
      "How many slices have you eaten: 3\n",
      "You have left with  3 slices of pizza.\n"
     ]
    }
   ],
   "source": [
    "#006 \n",
    "\n",
    "pizza = int(input(\"How many slices of pizza did you start with: \"))\n",
    "leftover = int(input(\"How many slices have you eaten: \"))\n",
    "\n",
    "total = (pizza - leftover)\n",
    "\n",
    "print(\"You have left with \",total,\"slices of pizza.\")"
   ]
  },
  {
   "cell_type": "code",
   "execution_count": 9,
   "id": "6c59a7f0",
   "metadata": {},
   "outputs": [
    {
     "name": "stdout",
     "output_type": "stream",
     "text": [
      "Enter your first name: abhi\n",
      "Enter your age: 25\n",
      "abhi next birthday you will be  26\n"
     ]
    }
   ],
   "source": [
    "#007\n",
    "\n",
    "firstname = input(\"Enter your first name: \")\n",
    "age = int(input(\"Enter your age: \"))\n",
    "\n",
    "newage = (age+1)\n",
    "\n",
    "print(firstname,\"next birthday you will be \", newage)"
   ]
  },
  {
   "cell_type": "code",
   "execution_count": 10,
   "id": "7cc7be2a",
   "metadata": {},
   "outputs": [
    {
     "name": "stdout",
     "output_type": "stream",
     "text": [
      "Enter the total price of bill: 3500\n",
      "Enter the number of people: 6\n",
      "Each person must pay  583.3333333333334 INR\n"
     ]
    }
   ],
   "source": [
    "#008\n",
    "\n",
    "bill = int(input(\"Enter the total price of bill: \"))\n",
    "diners = int(input(\"Enter the number of people: \"))\n",
    "\n",
    "total = (bill/diners)\n",
    "\n",
    "print(\"Each person must pay \",total,\"INR\")"
   ]
  },
  {
   "cell_type": "code",
   "execution_count": 12,
   "id": "cea695a8",
   "metadata": {},
   "outputs": [
    {
     "name": "stdout",
     "output_type": "stream",
     "text": [
      "Enter number of days: 3\n",
      "There are  72 Hours 4320 Minutes and  259200 seconds in  3 days.\n"
     ]
    }
   ],
   "source": [
    "#009\n",
    "\n",
    "days = int(input(\"Enter number of days: \"))\n",
    "hours = (days*24)\n",
    "minutes = (days*1440)\n",
    "seconds = (days*86400)\n",
    "\n",
    "print(\"There are \",hours,\"Hours\",minutes,\"Minutes and \",seconds,\"seconds in \",days,\"days.\")"
   ]
  },
  {
   "cell_type": "code",
   "execution_count": 14,
   "id": "f8787b5e",
   "metadata": {},
   "outputs": [
    {
     "name": "stdout",
     "output_type": "stream",
     "text": [
      "Enter a weight in kilograms: 2\n",
      "4408 pounds.\n"
     ]
    }
   ],
   "source": [
    "#010\n",
    "\n",
    "weight = int(input(\"Enter a weight in kilograms: \"))\n",
    "\n",
    "pounds = (weight * 2204)\n",
    "\n",
    "print(pounds, \"pounds.\")"
   ]
  },
  {
   "cell_type": "code",
   "execution_count": 15,
   "id": "7c6f11fe",
   "metadata": {},
   "outputs": [
    {
     "name": "stdout",
     "output_type": "stream",
     "text": [
      "Enter a number above 100: 120\n",
      "Enter a number below 10: 8\n",
      "The number: 8 goes 15.0 times in  120\n"
     ]
    }
   ],
   "source": [
    "#011\n",
    "\n",
    "num1 = int(input(\"Enter a number above 100: \"))\n",
    "num2 = int(input(\"Enter a number below 10: \"))\n",
    "\n",
    "ans = (num1/num2)\n",
    "\n",
    "print(\"The number:\",num2,\"goes\", ans, \"times in \",num1)"
   ]
  },
  {
   "cell_type": "code",
   "execution_count": 19,
   "id": "c7a6afdc",
   "metadata": {},
   "outputs": [
    {
     "name": "stdout",
     "output_type": "stream",
     "text": [
      "Enter a number: 4\n",
      "Enter another number: 6\n",
      "6 4\n"
     ]
    }
   ],
   "source": [
    "#012\n",
    "\n",
    "a = int(input(\"Enter a number: \"))\n",
    "b = int(input(\"Enter another number: \"))\n",
    "\n",
    "if a > b:\n",
    "    print(b, a)\n",
    "    \n",
    "elif a < b:\n",
    "    print(b, a)"
   ]
  },
  {
   "cell_type": "code",
   "execution_count": 21,
   "id": "893abbe6",
   "metadata": {},
   "outputs": [
    {
     "name": "stdout",
     "output_type": "stream",
     "text": [
      "Enter a number below 20: 12\n",
      "Thank you\n"
     ]
    }
   ],
   "source": [
    "#013\n",
    "\n",
    "num1 = int(input(\"Enter a number below 20: \"))\n",
    "\n",
    "if num1 < 20:\n",
    "    print(\"Thank you\")\n",
    "\n",
    "elif num1 > 20:\n",
    "    print(\"Too high\")\n",
    "    \n",
    "    "
   ]
  },
  {
   "cell_type": "code",
   "execution_count": 3,
   "id": "4f5b72d0",
   "metadata": {},
   "outputs": [
    {
     "name": "stdout",
     "output_type": "stream",
     "text": [
      "Enter a number between 10 and 20 :4\n"
     ]
    }
   ],
   "source": [
    "#014\n",
    "\n",
    "num1 = int(input(\"Enter a number between 10 and 20 :\"))\n",
    "\n",
    "if num >= 10 and num <= 20:\n",
    "    print(\"Thank you\")\n",
    "\n",
    "elif num1 > 20:\n",
    "    print(\"Incorrect answer\")\n",
    "    \n",
    "    \n"
   ]
  },
  {
   "cell_type": "code",
   "execution_count": 6,
   "id": "596ef6ee",
   "metadata": {},
   "outputs": [
    {
     "name": "stdout",
     "output_type": "stream",
     "text": [
      "Enter your favorite colour: blue\n",
      "I don't like, col,\n"
     ]
    }
   ],
   "source": [
    "#015\n",
    "\n",
    "col = input(\"Enter your favorite colour: \")\n",
    "\n",
    "if col == \"red\" or col == \"RED\" or col == \"Red\":\n",
    "    print(\"I like Red too\")\n",
    "    \n",
    "else:\n",
    "    print(\"I don't like it.\")\n"
   ]
  },
  {
   "cell_type": "code",
   "execution_count": null,
   "id": "cfaeb9dc",
   "metadata": {},
   "outputs": [],
   "source": []
  }
 ],
 "metadata": {
  "kernelspec": {
   "display_name": "Python 3 (ipykernel)",
   "language": "python",
   "name": "python3"
  },
  "language_info": {
   "codemirror_mode": {
    "name": "ipython",
    "version": 3
   },
   "file_extension": ".py",
   "mimetype": "text/x-python",
   "name": "python",
   "nbconvert_exporter": "python",
   "pygments_lexer": "ipython3",
   "version": "3.9.7"
  }
 },
 "nbformat": 4,
 "nbformat_minor": 5
}
